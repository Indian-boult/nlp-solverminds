{
 "cells": [
  {
   "cell_type": "code",
   "execution_count": 110,
   "metadata": {},
   "outputs": [],
   "source": [
    "import pickle\n",
    "from basic_prepro import process, do_tokeinze\n",
    "from nltk.corpus import stopwords"
   ]
  },
  {
   "cell_type": "code",
   "execution_count": 111,
   "metadata": {},
   "outputs": [],
   "source": [
    "stopWords = set(stopwords.words('english'))"
   ]
  },
  {
   "cell_type": "code",
   "execution_count": 135,
   "metadata": {},
   "outputs": [],
   "source": [
    "with open('as_data.pkl', 'rb') as f:\n",
    "    data = pickle.load(f)"
   ]
  },
  {
   "cell_type": "code",
   "execution_count": 136,
   "metadata": {},
   "outputs": [
    {
     "data": {
      "text/plain": [
       "100"
      ]
     },
     "execution_count": 136,
     "metadata": {},
     "output_type": "execute_result"
    }
   ],
   "source": [
    "len(data)"
   ]
  },
  {
   "cell_type": "code",
   "execution_count": 138,
   "metadata": {
    "scrolled": true
   },
   "outputs": [
    {
     "name": "stdout",
     "output_type": "stream",
     "text": [
      "0\n",
      "0\n",
      "1\n",
      "0\n",
      "0\n",
      "1\n",
      "0\n",
      "0\n",
      "0\n",
      "0\n",
      "0\n",
      "0\n",
      "0\n",
      "0\n",
      "0\n",
      "0\n",
      "0\n",
      "0\n",
      "0\n",
      "0\n",
      "0\n",
      "0\n",
      "0\n",
      "0\n",
      "0\n",
      "0\n",
      "1\n",
      "0\n",
      "1\n",
      "0\n",
      "0\n",
      "0\n",
      "1\n",
      "1\n",
      "0\n",
      "0\n",
      "0\n",
      "0\n",
      "0\n",
      "0\n",
      "0\n",
      "0\n",
      "0\n",
      "0\n",
      "0\n",
      "0\n",
      "0\n",
      "0\n",
      "0\n",
      "0\n",
      "0\n",
      "0\n",
      "0\n",
      "0\n",
      "0\n",
      "0\n",
      "0\n",
      "0\n",
      "0\n",
      "1\n",
      "0\n",
      "0\n",
      "0\n",
      "0\n",
      "0\n",
      "0\n",
      "0\n",
      "0\n",
      "0\n",
      "0\n",
      "1\n",
      "0\n",
      "0\n",
      "0\n",
      "0\n",
      "0\n",
      "0\n",
      "0\n",
      "0\n",
      "0\n",
      "1\n",
      "0\n",
      "0\n",
      "0\n",
      "0\n",
      "0\n",
      "0\n",
      "0\n",
      "0\n",
      "0\n",
      "0\n",
      "0\n",
      "1\n",
      "0\n",
      "0\n",
      "0\n",
      "0\n",
      "0\n",
      "0\n",
      "0\n"
     ]
    }
   ],
   "source": [
    "for doc in data:\n",
    "    print(len(doc))"
   ]
  },
  {
   "cell_type": "code",
   "execution_count": 117,
   "metadata": {},
   "outputs": [
    {
     "name": "stdout",
     "output_type": "stream",
     "text": [
      "0\n",
      "1\n",
      "2\n",
      "3\n",
      "4\n",
      "5\n"
     ]
    },
    {
     "ename": "IndexError",
     "evalue": "list index out of range",
     "output_type": "error",
     "traceback": [
      "\u001b[0;31m---------------------------------------------------------------------------\u001b[0m",
      "\u001b[0;31mIndexError\u001b[0m                                Traceback (most recent call last)",
      "\u001b[0;32m<ipython-input-117-7ceaa7d76373>\u001b[0m in \u001b[0;36m<module>\u001b[0;34m\u001b[0m\n\u001b[1;32m      1\u001b[0m \u001b[0mco\u001b[0m \u001b[0;34m=\u001b[0m \u001b[0;36m0\u001b[0m\u001b[0;34m\u001b[0m\u001b[0;34m\u001b[0m\u001b[0m\n\u001b[1;32m      2\u001b[0m \u001b[0;32mfor\u001b[0m \u001b[0mitm\u001b[0m \u001b[0;32min\u001b[0m \u001b[0mdata\u001b[0m\u001b[0;34m:\u001b[0m\u001b[0;34m\u001b[0m\u001b[0;34m\u001b[0m\u001b[0m\n\u001b[0;32m----> 3\u001b[0;31m     \u001b[0mtext\u001b[0m \u001b[0;34m=\u001b[0m \u001b[0mitm\u001b[0m\u001b[0;34m[\u001b[0m\u001b[0;36m0\u001b[0m\u001b[0;34m]\u001b[0m\u001b[0;34m\u001b[0m\u001b[0;34m\u001b[0m\u001b[0m\n\u001b[0m\u001b[1;32m      4\u001b[0m \u001b[0;34m\u001b[0m\u001b[0m\n\u001b[1;32m      5\u001b[0m \u001b[0;34m\u001b[0m\u001b[0m\n",
      "\u001b[0;31mIndexError\u001b[0m: list index out of range"
     ]
    }
   ],
   "source": [
    "co = 0\n",
    "for itm in data:\n",
    "    text = itm[0]\n",
    "    \n",
    "    \n",
    "    print(co)\n",
    "    co+=1"
   ]
  },
  {
   "cell_type": "code",
   "execution_count": 101,
   "metadata": {},
   "outputs": [
    {
     "ename": "IndexError",
     "evalue": "list index out of range",
     "output_type": "error",
     "traceback": [
      "\u001b[0;31m---------------------------------------------------------------------------\u001b[0m",
      "\u001b[0;31mIndexError\u001b[0m                                Traceback (most recent call last)",
      "\u001b[0;32m<ipython-input-101-d5d1ad2c78ee>\u001b[0m in \u001b[0;36m<module>\u001b[0;34m\u001b[0m\n\u001b[1;32m      1\u001b[0m \u001b[0mdoc\u001b[0m \u001b[0;34m=\u001b[0m \u001b[0;34m[\u001b[0m\u001b[0;34m]\u001b[0m\u001b[0;34m\u001b[0m\u001b[0;34m\u001b[0m\u001b[0m\n\u001b[1;32m      2\u001b[0m \u001b[0;32mfor\u001b[0m \u001b[0mitem\u001b[0m \u001b[0;32min\u001b[0m \u001b[0mdata\u001b[0m\u001b[0;34m:\u001b[0m\u001b[0;34m\u001b[0m\u001b[0;34m\u001b[0m\u001b[0m\n\u001b[0;32m----> 3\u001b[0;31m     \u001b[0mtext\u001b[0m \u001b[0;34m=\u001b[0m \u001b[0mstr\u001b[0m\u001b[0;34m(\u001b[0m\u001b[0mitem\u001b[0m\u001b[0;34m[\u001b[0m\u001b[0;36m0\u001b[0m\u001b[0;34m]\u001b[0m\u001b[0;34m)\u001b[0m\u001b[0;34m\u001b[0m\u001b[0;34m\u001b[0m\u001b[0m\n\u001b[0m\u001b[1;32m      4\u001b[0m     \u001b[0mprocessed\u001b[0m \u001b[0;34m=\u001b[0m \u001b[0mprocess\u001b[0m\u001b[0;34m(\u001b[0m\u001b[0mtext\u001b[0m\u001b[0;34m)\u001b[0m\u001b[0;34m\u001b[0m\u001b[0;34m\u001b[0m\u001b[0m\n\u001b[1;32m      5\u001b[0m     \u001b[0msentence\u001b[0m \u001b[0;34m=\u001b[0m \u001b[0mdo_tokeinze\u001b[0m\u001b[0;34m(\u001b[0m\u001b[0mprocessed\u001b[0m\u001b[0;34m)\u001b[0m\u001b[0;34m\u001b[0m\u001b[0;34m\u001b[0m\u001b[0m\n",
      "\u001b[0;31mIndexError\u001b[0m: list index out of range"
     ]
    }
   ],
   "source": [
    "doc = []\n",
    "for item in data:\n",
    "    text = str(item[0])\n",
    "    processed = process(text)\n",
    "    sentence = do_tokeinze(processed)\n",
    "    doc.append(sentence)"
   ]
  },
  {
   "cell_type": "code",
   "execution_count": 49,
   "metadata": {},
   "outputs": [],
   "source": [
    "for document in doc:\n",
    "    for token in document:\n",
    "        if len(token) < 3:\n",
    "            document.remove(token)\n",
    "        elif token in stopWords:\n",
    "            document.remove(token)"
   ]
  },
  {
   "cell_type": "code",
   "execution_count": 93,
   "metadata": {},
   "outputs": [
    {
     "data": {
      "text/plain": [
       "['prepared',\n",
       " 'translator',\n",
       " 'revised',\n",
       " 'compliance',\n",
       " 'nenforcement',\n",
       " 'deputy',\n",
       " 'chief',\n",
       " 'naproved',\n",
       " 'compliance',\n",
       " 'nenforcement',\n",
       " 'chief',\n",
       " 'ncontrol',\n",
       " 'frin',\n",
       " 'version',\n",
       " 'date',\n",
       " 'july',\n",
       " 'page',\n",
       " 'ton',\n",
       " 'shipownersoperators',\n",
       " 'company',\n",
       " 'security',\n",
       " 'officers',\n",
       " 'legal',\n",
       " 'representatives',\n",
       " 'npanamanian',\n",
       " 'flagged',\n",
       " 'vessels',\n",
       " 'panamanian',\n",
       " 'merchant',\n",
       " 'marine',\n",
       " 'consulates',\n",
       " 'nrecognized',\n",
       " 'organizations',\n",
       " 'nsubject',\n",
       " 'execution',\n",
       " 'bill',\n",
       " 'sanle',\n",
       " 'language',\n",
       " 'requirements',\n",
       " 'referencen',\n",
       " 'law',\n",
       " 'august',\n",
       " 'execution',\n",
       " 'bill',\n",
       " 'sale',\n",
       " 'nthe',\n",
       " 'bill',\n",
       " 'sale',\n",
       " 'vessel',\n",
       " 'abroad',\n",
       " 'shall',\n",
       " 'executed',\n",
       " 'consul',\n",
       " 'panama',\n",
       " 'respective',\n",
       " 'nplace',\n",
       " 'may',\n",
       " 'also',\n",
       " 'executed',\n",
       " 'subject',\n",
       " 'form',\n",
       " 'extended',\n",
       " 'formalities',\n",
       " 'laws',\n",
       " 'nthe',\n",
       " 'country',\n",
       " 'executed',\n",
       " 'nin',\n",
       " 'case',\n",
       " 'sale',\n",
       " 'shall',\n",
       " 'effect',\n",
       " 'third',\n",
       " 'persons',\n",
       " 'same',\n",
       " 'is',\n",
       " 'submitted',\n",
       " 'npublic',\n",
       " 'registry',\n",
       " 'panama',\n",
       " 'language',\n",
       " 'requirements',\n",
       " 'nthe',\n",
       " 'sale',\n",
       " 'mortgage',\n",
       " 'vessels',\n",
       " 'panamanian',\n",
       " 'registration',\n",
       " 'executed',\n",
       " 'subject',\n",
       " 'form',\n",
       " 'nexternal',\n",
       " 'formalities',\n",
       " 'laws',\n",
       " 'country',\n",
       " 'is',\n",
       " 'being',\n",
       " 'executed',\n",
       " 'may',\n",
       " 'carried',\n",
       " 'ndocument',\n",
       " 'written',\n",
       " 'language',\n",
       " 'narticle',\n",
       " 'merchant',\n",
       " 'marine',\n",
       " 'consulates',\n",
       " 'authorized',\n",
       " 'receive',\n",
       " 'process',\n",
       " 'applications',\n",
       " 'npreliminary',\n",
       " 'registration',\n",
       " 'title',\n",
       " 'nantional',\n",
       " 'merchant',\n",
       " 'vessels',\n",
       " 'follows',\n",
       " 'article',\n",
       " 'bill',\n",
       " 'sale',\n",
       " 'granted',\n",
       " 'within',\n",
       " 'outside',\n",
       " 'republic',\n",
       " 'panamá',\n",
       " 'may',\n",
       " 'nexecuted',\n",
       " 'language',\n",
       " 'shall',\n",
       " 'writing',\n",
       " 'public',\n",
       " 'deed',\n",
       " 'private',\n",
       " 'document',\n",
       " 'nif',\n",
       " 'executed',\n",
       " 'private',\n",
       " 'document',\n",
       " 'signature',\n",
       " 'contracting',\n",
       " 'parties',\n",
       " 'must',\n",
       " 'authenticated',\n",
       " 'public',\n",
       " 'notary',\n",
       " 'panamanian',\n",
       " 'consul',\n",
       " 'exercise',\n",
       " 'notarial',\n",
       " 'functions',\n",
       " 'nthe',\n",
       " 'bill',\n",
       " 'sale',\n",
       " 'may',\n",
       " 'also',\n",
       " 'executed',\n",
       " 'according',\n",
       " 'formalities',\n",
       " 'required',\n",
       " 'country',\n",
       " 'nis',\n",
       " 'granted',\n",
       " 'nin',\n",
       " 'case',\n",
       " 'transfer',\n",
       " 'effective',\n",
       " 'third',\n",
       " 'parties',\n",
       " 'from',\n",
       " 'submission',\n",
       " 'the',\n",
       " 'npublic',\n",
       " 'registry',\n",
       " 'panama',\n",
       " 'make',\n",
       " 'presentation',\n",
       " 'the',\n",
       " 'document',\n",
       " 'must',\n",
       " 'previously',\n",
       " 'nlegalized',\n",
       " 'consulate',\n",
       " 'the',\n",
       " 'republic',\n",
       " 'panama',\n",
       " 'duly',\n",
       " 'apostilled',\n",
       " 'noctober',\n",
       " 'modification',\n",
       " 'point',\n",
       " 'june',\n",
       " 'inquiries',\n",
       " 'concerning',\n",
       " 'the',\n",
       " 'subject',\n",
       " 'circnular',\n",
       " 'request',\n",
       " 'directed',\n",
       " 'ngeneral',\n",
       " 'directorate',\n",
       " 'merchant',\n",
       " 'marine',\n",
       " 'npanama',\n",
       " 'maritime',\n",
       " 'authority',\n",
       " 'nphone',\n",
       " 'nfax',\n",
       " 'panama',\n",
       " 'maritime',\n",
       " 'authority',\n",
       " 'merchant',\n",
       " 'marine',\n",
       " 'circular',\n",
       " 'mmc',\n",
       " 'pancanal',\n",
       " 'building',\n",
       " 'nnalbrook',\n",
       " 'panama',\n",
       " 'city',\n",
       " 'nrepublic',\n",
       " 'panama',\n",
       " 'ntel',\n",
       " 'nsegumarsegumarcom']"
      ]
     },
     "execution_count": 93,
     "metadata": {},
     "output_type": "execute_result"
    }
   ],
   "source": [
    "doc[0]"
   ]
  },
  {
   "cell_type": "code",
   "execution_count": 60,
   "metadata": {},
   "outputs": [],
   "source": [
    "from gensim.models import Word2Vec"
   ]
  },
  {
   "cell_type": "code",
   "execution_count": 61,
   "metadata": {},
   "outputs": [],
   "source": [
    "model = Word2Vec(doc, min_count=5)"
   ]
  },
  {
   "cell_type": "code",
   "execution_count": 63,
   "metadata": {},
   "outputs": [
    {
     "name": "stdout",
     "output_type": "stream",
     "text": [
      "Word2Vec(vocab=152, size=100, alpha=0.025)\n"
     ]
    }
   ],
   "source": [
    "print(model)"
   ]
  },
  {
   "cell_type": "code",
   "execution_count": 65,
   "metadata": {},
   "outputs": [
    {
     "name": "stdout",
     "output_type": "stream",
     "text": [
      "152\n"
     ]
    }
   ],
   "source": [
    "print(len(list(model.wv.vocab)))"
   ]
  },
  {
   "cell_type": "code",
   "execution_count": 67,
   "metadata": {},
   "outputs": [
    {
     "name": "stderr",
     "output_type": "stream",
     "text": [
      "/home/askaydevs/.conda/envs/solverminds_final/lib/python3.6/site-packages/ipykernel_launcher.py:1: DeprecationWarning: Call to deprecated `__getitem__` (Method will be removed in 4.0.0, use self.wv.__getitem__() instead).\n",
      "  \"\"\"Entry point for launching an IPython kernel.\n"
     ]
    },
    {
     "data": {
      "text/plain": [
       "array([-7.6821912e-04,  1.0754399e-02, -7.1843673e-04,  2.4710081e-03,\n",
       "        5.0468110e-03, -7.5290131e-04, -4.8523489e-03, -4.2252564e-03,\n",
       "        1.1361450e-03,  5.6873434e-03,  5.3875833e-03, -4.0536346e-03,\n",
       "       -1.6735492e-03, -1.6520153e-03,  2.6011232e-03,  2.4331450e-03,\n",
       "       -1.7021196e-03, -5.1581068e-03, -8.0481457e-04,  2.5050701e-03,\n",
       "       -8.1176404e-05,  2.6477433e-03, -2.2357814e-04,  5.7095685e-03,\n",
       "        2.1018900e-03, -7.3744339e-04, -5.5661780e-04,  4.3794997e-03,\n",
       "       -1.3210214e-04,  1.6895727e-03, -2.1935443e-03,  5.6139939e-04,\n",
       "        4.9860375e-03, -2.6068338e-03,  1.6301226e-04, -3.9678198e-05,\n",
       "       -7.4075750e-04,  6.9647343e-03,  4.5660981e-03,  7.1024331e-03,\n",
       "        2.2670976e-03, -4.1406280e-03,  1.2888972e-03,  4.1309632e-03,\n",
       "       -8.5485280e-03,  2.6906903e-03, -6.3058403e-03, -5.4262085e-03,\n",
       "       -3.1560080e-03,  2.6084920e-03, -1.8032282e-03,  5.7592117e-03,\n",
       "        5.7820436e-03,  9.5525719e-03, -2.5970140e-04,  2.8191272e-03,\n",
       "        3.6888625e-03, -1.8473605e-03, -7.7015185e-03,  5.0112163e-04,\n",
       "       -3.8072183e-03,  6.3237711e-03,  2.7000052e-03,  4.6279873e-03,\n",
       "       -2.4693192e-03, -5.1742550e-03,  4.5018541e-03, -7.5969947e-05,\n",
       "       -1.1167212e-04, -1.6590122e-03,  4.7534369e-03,  2.6287662e-03,\n",
       "        1.0251115e-03,  3.9777830e-03, -1.8870831e-03,  2.4288248e-03,\n",
       "       -5.6150625e-03,  5.2264292e-04,  3.2982563e-03, -1.7219245e-03,\n",
       "        1.8919631e-03, -1.8899759e-03, -1.7110411e-03, -2.6900189e-03,\n",
       "       -4.6074190e-03,  4.4436730e-03, -3.4868601e-03,  8.0286816e-04,\n",
       "       -1.1475814e-03,  3.4533567e-03, -8.7435765e-04,  2.3515483e-03,\n",
       "       -4.0769051e-03,  8.8145531e-04, -1.7358111e-03,  3.4952390e-03,\n",
       "       -2.0540396e-03, -1.6758380e-03, -2.4739669e-03,  1.2254576e-03],\n",
       "      dtype=float32)"
      ]
     },
     "execution_count": 67,
     "metadata": {},
     "output_type": "execute_result"
    }
   ],
   "source": [
    "model['panama']"
   ]
  },
  {
   "cell_type": "code",
   "execution_count": 75,
   "metadata": {},
   "outputs": [
    {
     "name": "stdout",
     "output_type": "stream",
     "text": [
      "Collecting matplotlib\n",
      "  Downloading matplotlib-3.1.3-cp36-cp36m-manylinux1_x86_64.whl (13.1 MB)\n",
      "\u001b[K     |████████████████████████████████| 13.1 MB 460 kB/s eta 0:00:01\n",
      "\u001b[?25hCollecting cycler>=0.10\n",
      "  Using cached cycler-0.10.0-py2.py3-none-any.whl (6.5 kB)\n",
      "Requirement already satisfied: python-dateutil>=2.1 in /home/askaydevs/.conda/envs/solverminds_final/lib/python3.6/site-packages (from matplotlib) (2.8.1)\n",
      "Requirement already satisfied: pyparsing!=2.0.4,!=2.1.2,!=2.1.6,>=2.0.1 in /home/askaydevs/.conda/envs/solverminds_final/lib/python3.6/site-packages (from matplotlib) (2.4.6)\n",
      "Collecting kiwisolver>=1.0.1\n",
      "  Using cached kiwisolver-1.1.0-cp36-cp36m-manylinux1_x86_64.whl (90 kB)\n",
      "Requirement already satisfied: numpy>=1.11 in /home/askaydevs/.conda/envs/solverminds_final/lib/python3.6/site-packages (from matplotlib) (1.18.1)\n",
      "Requirement already satisfied: six in /home/askaydevs/.conda/envs/solverminds_final/lib/python3.6/site-packages (from cycler>=0.10->matplotlib) (1.14.0)\n",
      "Requirement already satisfied: setuptools in /home/askaydevs/.conda/envs/solverminds_final/lib/python3.6/site-packages (from kiwisolver>=1.0.1->matplotlib) (45.2.0.post20200209)\n",
      "Installing collected packages: cycler, kiwisolver, matplotlib\n",
      "Successfully installed cycler-0.10.0 kiwisolver-1.1.0 matplotlib-3.1.3\n"
     ]
    }
   ],
   "source": [
    "! pip install matplotlib"
   ]
  },
  {
   "cell_type": "code",
   "execution_count": 88,
   "metadata": {},
   "outputs": [
    {
     "name": "stderr",
     "output_type": "stream",
     "text": [
      "/home/askaydevs/.conda/envs/solverminds_final/lib/python3.6/site-packages/ipykernel_launcher.py:1: DeprecationWarning: Call to deprecated `__getitem__` (Method will be removed in 4.0.0, use self.wv.__getitem__() instead).\n",
      "  \"\"\"Entry point for launching an IPython kernel.\n"
     ]
    },
    {
     "data": {
      "text/plain": [
       "array([[ 2.6039672e-04,  4.5798199e-05,  3.2980181e-03, ...,\n",
       "        -4.5863423e-03,  2.9341606e-04, -3.0928710e-03],\n",
       "       [-9.1202004e-04,  1.2577353e-03,  2.9029825e-03, ...,\n",
       "         1.4502162e-03, -5.5146264e-03,  3.8745163e-03],\n",
       "       [ 8.6102278e-05,  6.7264228e-03,  2.5150767e-03, ...,\n",
       "        -5.6367083e-03,  1.5563941e-04,  2.2419290e-04],\n",
       "       ...,\n",
       "       [-1.7502902e-03,  1.5466759e-03, -1.1955466e-03, ...,\n",
       "        -1.8011034e-03, -2.4455101e-03, -4.4480781e-03],\n",
       "       [-4.5869900e-03,  7.5845257e-03, -4.4170083e-03, ...,\n",
       "        -4.7740401e-03,  9.6048525e-04,  3.7773810e-03],\n",
       "       [ 1.2059628e-03,  4.1423342e-03, -8.8347029e-04, ...,\n",
       "         1.0822107e-03, -6.4403238e-04,  2.2746720e-03]], dtype=float32)"
      ]
     },
     "execution_count": 88,
     "metadata": {},
     "output_type": "execute_result"
    }
   ],
   "source": [
    "X = model[model.wv.vocab]"
   ]
  },
  {
   "cell_type": "code",
   "execution_count": 76,
   "metadata": {},
   "outputs": [],
   "source": [
    "from sklearn.decomposition import PCA\n",
    "import matplotlib.pyplot as plt"
   ]
  },
  {
   "cell_type": "code",
   "execution_count": 77,
   "metadata": {},
   "outputs": [],
   "source": [
    "pca = PCA(n_components=2)\n",
    "result = pca.fit_transform(X)"
   ]
  },
  {
   "cell_type": "code",
   "execution_count": 86,
   "metadata": {
    "scrolled": true
   },
   "outputs": [
    {
     "data": {
      "image/png": "[encoded data removed]",
      "text/plain": [
       "<Figure size 432x288 with 1 Axes>"
      ]
     },
     "metadata": {
      "needs_background": "light"
     },
     "output_type": "display_data"
    }
   ],
   "source": [
    "plt.scatter(result[:, 0], result[:, 1])\n",
    "words = list(model.wv.vocab)\n",
    "for i, word in enumerate(words):\n",
    "    plt.annotate(word, xy=(result[i, 0], result[i, 1]))\n",
    "plt.show()"
   ]
  },
  {
   "cell_type": "code",
   "execution_count": 89,
   "metadata": {},
   "outputs": [],
   "source": [
    "model.save('model.bin')"
   ]
  },
  {
   "cell_type": "code",
   "execution_count": 90,
   "metadata": {},
   "outputs": [
    {
     "name": "stdout",
     "output_type": "stream",
     "text": [
      "as_data.pkl  example_w2v.py  model.bin\tUntitled.ipynb\tword2vec.py\r\n"
     ]
    }
   ],
   "source": [
    "!ls"
   ]
  },
  {
   "cell_type": "code",
   "execution_count": 91,
   "metadata": {},
   "outputs": [],
   "source": [
    "new_model = Word2Vec.load('model.bin')"
   ]
  },
  {
   "cell_type": "code",
   "execution_count": 92,
   "metadata": {},
   "outputs": [
    {
     "data": {
      "text/plain": [
       "{'prepared': <gensim.models.keyedvectors.Vocab at 0x7f480b0c6e10>,\n",
       " 'translator': <gensim.models.keyedvectors.Vocab at 0x7f480b0c6eb8>,\n",
       " 'revised': <gensim.models.keyedvectors.Vocab at 0x7f480b0c68d0>,\n",
       " 'compliance': <gensim.models.keyedvectors.Vocab at 0x7f480b0c6208>,\n",
       " 'nenforcement': <gensim.models.keyedvectors.Vocab at 0x7f480b0c6a20>,\n",
       " 'deputy': <gensim.models.keyedvectors.Vocab at 0x7f480b0c6cc0>,\n",
       " 'chief': <gensim.models.keyedvectors.Vocab at 0x7f480b0c62e8>,\n",
       " 'naproved': <gensim.models.keyedvectors.Vocab at 0x7f480b0c65f8>,\n",
       " 'ncontrol': <gensim.models.keyedvectors.Vocab at 0x7f480b0c6630>,\n",
       " 'frin': <gensim.models.keyedvectors.Vocab at 0x7f480b0c66d8>,\n",
       " 'version': <gensim.models.keyedvectors.Vocab at 0x7f480b140d30>,\n",
       " 'date': <gensim.models.keyedvectors.Vocab at 0x7f480b140278>,\n",
       " 'july': <gensim.models.keyedvectors.Vocab at 0x7f480b140d68>,\n",
       " 'page': <gensim.models.keyedvectors.Vocab at 0x7f480b1409e8>,\n",
       " 'ton': <gensim.models.keyedvectors.Vocab at 0x7f480b140588>,\n",
       " 'shipownersoperators': <gensim.models.keyedvectors.Vocab at 0x7f480b140c88>,\n",
       " 'company': <gensim.models.keyedvectors.Vocab at 0x7f480b140f60>,\n",
       " 'security': <gensim.models.keyedvectors.Vocab at 0x7f480b140e48>,\n",
       " 'officers': <gensim.models.keyedvectors.Vocab at 0x7f480b1400b8>,\n",
       " 'legal': <gensim.models.keyedvectors.Vocab at 0x7f480b140390>,\n",
       " 'representatives': <gensim.models.keyedvectors.Vocab at 0x7f480b140668>,\n",
       " 'npanamanian': <gensim.models.keyedvectors.Vocab at 0x7f480b0be518>,\n",
       " 'flagged': <gensim.models.keyedvectors.Vocab at 0x7f481006af28>,\n",
       " 'vessels': <gensim.models.keyedvectors.Vocab at 0x7f481006ab38>,\n",
       " 'panamanian': <gensim.models.keyedvectors.Vocab at 0x7f481006aef0>,\n",
       " 'merchant': <gensim.models.keyedvectors.Vocab at 0x7f481006a588>,\n",
       " 'marine': <gensim.models.keyedvectors.Vocab at 0x7f481006a358>,\n",
       " 'consulates': <gensim.models.keyedvectors.Vocab at 0x7f481006a3c8>,\n",
       " 'nrecognized': <gensim.models.keyedvectors.Vocab at 0x7f481006a080>,\n",
       " 'organizations': <gensim.models.keyedvectors.Vocab at 0x7f481006a748>,\n",
       " 'bill': <gensim.models.keyedvectors.Vocab at 0x7f481006a550>,\n",
       " 'language': <gensim.models.keyedvectors.Vocab at 0x7f481006add8>,\n",
       " 'requirements': <gensim.models.keyedvectors.Vocab at 0x7f481006a780>,\n",
       " 'law': <gensim.models.keyedvectors.Vocab at 0x7f481006a438>,\n",
       " 'august': <gensim.models.keyedvectors.Vocab at 0x7f481006a518>,\n",
       " 'sale': <gensim.models.keyedvectors.Vocab at 0x7f481006aa58>,\n",
       " 'nthe': <gensim.models.keyedvectors.Vocab at 0x7f481006a470>,\n",
       " 'vessel': <gensim.models.keyedvectors.Vocab at 0x7f481006acf8>,\n",
       " 'abroad': <gensim.models.keyedvectors.Vocab at 0x7f481006a400>,\n",
       " 'shall': <gensim.models.keyedvectors.Vocab at 0x7f481006ad30>,\n",
       " 'executed': <gensim.models.keyedvectors.Vocab at 0x7f481006a9e8>,\n",
       " 'consul': <gensim.models.keyedvectors.Vocab at 0x7f481006afd0>,\n",
       " 'panama': <gensim.models.keyedvectors.Vocab at 0x7f481006a128>,\n",
       " 'may': <gensim.models.keyedvectors.Vocab at 0x7f481006ad68>,\n",
       " 'also': <gensim.models.keyedvectors.Vocab at 0x7f481006aeb8>,\n",
       " 'subject': <gensim.models.keyedvectors.Vocab at 0x7f481006a390>,\n",
       " 'form': <gensim.models.keyedvectors.Vocab at 0x7f481006a160>,\n",
       " 'formalities': <gensim.models.keyedvectors.Vocab at 0x7f481006a0f0>,\n",
       " 'laws': <gensim.models.keyedvectors.Vocab at 0x7f481006a320>,\n",
       " 'nin': <gensim.models.keyedvectors.Vocab at 0x7f481006a668>,\n",
       " 'case': <gensim.models.keyedvectors.Vocab at 0x7f481006ac50>,\n",
       " 'third': <gensim.models.keyedvectors.Vocab at 0x7f481006a198>,\n",
       " 'same': <gensim.models.keyedvectors.Vocab at 0x7f481006a9b0>,\n",
       " 'registry': <gensim.models.keyedvectors.Vocab at 0x7f481006a978>,\n",
       " 'mortgage': <gensim.models.keyedvectors.Vocab at 0x7f481006aba8>,\n",
       " 'registration': <gensim.models.keyedvectors.Vocab at 0x7f481006a898>,\n",
       " 'title': <gensim.models.keyedvectors.Vocab at 0x7f481006ada0>,\n",
       " 'article': <gensim.models.keyedvectors.Vocab at 0x7f481006a7f0>,\n",
       " 'granted': <gensim.models.keyedvectors.Vocab at 0x7f481006abe0>,\n",
       " 'republic': <gensim.models.keyedvectors.Vocab at 0x7f481006a208>,\n",
       " 'public': <gensim.models.keyedvectors.Vocab at 0x7f480b1c2eb8>,\n",
       " 'deed': <gensim.models.keyedvectors.Vocab at 0x7f480b1c24e0>,\n",
       " 'parties': <gensim.models.keyedvectors.Vocab at 0x7f480b1c25c0>,\n",
       " 'must': <gensim.models.keyedvectors.Vocab at 0x7f480b1c2550>,\n",
       " 'exercise': <gensim.models.keyedvectors.Vocab at 0x7f480b1c2358>,\n",
       " 'according': <gensim.models.keyedvectors.Vocab at 0x7f480b1c2400>,\n",
       " 'required': <gensim.models.keyedvectors.Vocab at 0x7f480b1c20b8>,\n",
       " 'the': <gensim.models.keyedvectors.Vocab at 0x7f480b1c2908>,\n",
       " 'concerning': <gensim.models.keyedvectors.Vocab at 0x7f480b1c26a0>,\n",
       " 'circnular': <gensim.models.keyedvectors.Vocab at 0x7f480b1c2668>,\n",
       " 'request': <gensim.models.keyedvectors.Vocab at 0x7f480b1c2080>,\n",
       " 'directed': <gensim.models.keyedvectors.Vocab at 0x7f480b1c2e80>,\n",
       " 'ngeneral': <gensim.models.keyedvectors.Vocab at 0x7f480b1c29e8>,\n",
       " 'directorate': <gensim.models.keyedvectors.Vocab at 0x7f480b1c2898>,\n",
       " 'npanama': <gensim.models.keyedvectors.Vocab at 0x7f480b1c2b00>,\n",
       " 'maritime': <gensim.models.keyedvectors.Vocab at 0x7f480b1c2e48>,\n",
       " 'authority': <gensim.models.keyedvectors.Vocab at 0x7f480b1c2a90>,\n",
       " 'circular': <gensim.models.keyedvectors.Vocab at 0x7f480b1c2d68>,\n",
       " 'mmc': <gensim.models.keyedvectors.Vocab at 0x7f480b1c2240>,\n",
       " 'pancanal': <gensim.models.keyedvectors.Vocab at 0x7f480b1c2390>,\n",
       " 'building': <gensim.models.keyedvectors.Vocab at 0x7f480b1c2dd8>,\n",
       " 'city': <gensim.models.keyedvectors.Vocab at 0x7f480b1c2ef0>,\n",
       " 'nrepublic': <gensim.models.keyedvectors.Vocab at 0x7f480b1c2c88>,\n",
       " 'ntel': <gensim.models.keyedvectors.Vocab at 0x7f480b1c27f0>,\n",
       " 'nsegumarsegumarcom': <gensim.models.keyedvectors.Vocab at 0x7f480b1c2710>,\n",
       " 'ship': <gensim.models.keyedvectors.Vocab at 0x7f480b1c2588>,\n",
       " 'provisions': <gensim.models.keyedvectors.Vocab at 0x7f480b1c21d0>,\n",
       " 'preliminary': <gensim.models.keyedvectors.Vocab at 0x7f480b1c29b0>,\n",
       " 'nof': <gensim.models.keyedvectors.Vocab at 0x7f480b1c2f60>,\n",
       " 'documents': <gensim.models.keyedvectors.Vocab at 0x7f480b1c2a58>,\n",
       " 'mortgages': <gensim.models.keyedvectors.Vocab at 0x7f480b1c2978>,\n",
       " 'consular': <gensim.models.keyedvectors.Vocab at 0x7f480b1c2be0>,\n",
       " 'property': <gensim.models.keyedvectors.Vocab at 0x7f480b1c2940>,\n",
       " 'been': <gensim.models.keyedvectors.Vocab at 0x7f480b1c2c50>,\n",
       " 'following': <gensim.models.keyedvectors.Vocab at 0x7f480b1c2208>,\n",
       " 'contract': <gensim.models.keyedvectors.Vocab at 0x7f480b1c2d30>,\n",
       " 'naval': <gensim.models.keyedvectors.Vocab at 0x7f480b1c2f98>,\n",
       " 'registered': <gensim.models.keyedvectors.Vocab at 0x7f480b1c2cc0>,\n",
       " 'nand': <gensim.models.keyedvectors.Vocab at 0x7f4810082400>,\n",
       " 'certificate': <gensim.models.keyedvectors.Vocab at 0x7f4810082b38>,\n",
       " 'made': <gensim.models.keyedvectors.Vocab at 0x7f48100828d0>,\n",
       " 'reference': <gensim.models.keyedvectors.Vocab at 0x7f48100827b8>,\n",
       " 'currency': <gensim.models.keyedvectors.Vocab at 0x7f4810082fd0>,\n",
       " 'obligation': <gensim.models.keyedvectors.Vocab at 0x7f4810082be0>,\n",
       " 'secured': <gensim.models.keyedvectors.Vocab at 0x7f4810082c50>,\n",
       " 'maximum': <gensim.models.keyedvectors.Vocab at 0x7f4810082390>,\n",
       " 'amount': <gensim.models.keyedvectors.Vocab at 0x7f4810082780>,\n",
       " 'obligations': <gensim.models.keyedvectors.Vocab at 0x7f4810082080>,\n",
       " 'capital': <gensim.models.keyedvectors.Vocab at 0x7f48100822e8>,\n",
       " 'interest': <gensim.models.keyedvectors.Vocab at 0x7f4810082278>,\n",
       " 'indebtedness': <gensim.models.keyedvectors.Vocab at 0x7f4810082cc0>,\n",
       " 'due': <gensim.models.keyedvectors.Vocab at 0x7f48100823c8>,\n",
       " 'judicial': <gensim.models.keyedvectors.Vocab at 0x7f4810082e10>,\n",
       " 'interested': <gensim.models.keyedvectors.Vocab at 0x7f4810082828>,\n",
       " 'not': <gensim.models.keyedvectors.Vocab at 0x7f4810082160>,\n",
       " 'mortgagee': <gensim.models.keyedvectors.Vocab at 0x7f4810082898>,\n",
       " 'service': <gensim.models.keyedvectors.Vocab at 0x7f4810082f98>,\n",
       " 'power': <gensim.models.keyedvectors.Vocab at 0x7f48100820b8>,\n",
       " 'general': <gensim.models.keyedvectors.Vocab at 0x7f4810082358>,\n",
       " 'such': <gensim.models.keyedvectors.Vocab at 0x7f4810082c18>,\n",
       " 'gross': <gensim.models.keyedvectors.Vocab at 0x7f4810082668>,\n",
       " 'be': <gensim.models.keyedvectors.Vocab at 0x7f4810082710>,\n",
       " 'time': <gensim.models.keyedvectors.Vocab at 0x7f4810082198>,\n",
       " 'new': <gensim.models.keyedvectors.Vocab at 0x7f4810082ac8>,\n",
       " 'ninquiries': <gensim.models.keyedvectors.Vocab at 0x7f4810082ba8>,\n",
       " 'napproved': <gensim.models.keyedvectors.Vocab at 0x7f48100826d8>,\n",
       " 'name': <gensim.models.keyedvectors.Vocab at 0x7f4810082240>,\n",
       " 'rate': <gensim.models.keyedvectors.Vocab at 0x7f48100824e0>,\n",
       " 'national': <gensim.models.keyedvectors.Vocab at 0x7f48100827f0>,\n",
       " 'call': <gensim.models.keyedvectors.Vocab at 0x7f4810082048>,\n",
       " 'construction': <gensim.models.keyedvectors.Vocab at 0x7f4810082f28>,\n",
       " 'october': <gensim.models.keyedvectors.Vocab at 0x7f4810082630>,\n",
       " 'january': <gensim.models.keyedvectors.Vocab at 0x7f4810082a58>,\n",
       " 'any': <gensim.models.keyedvectors.Vocab at 0x7f4810082eb8>,\n",
       " 'yachts': <gensim.models.keyedvectors.Vocab at 0x7f48100826a0>,\n",
       " 'safety': <gensim.models.keyedvectors.Vocab at 0x7f4810082e48>,\n",
       " 'nnphone': <gensim.models.keyedvectors.Vocab at 0x7f4810082908>,\n",
       " 'navigation': <gensim.models.keyedvectors.Vocab at 0x7f4810082588>,\n",
       " 'patente': <gensim.models.keyedvectors.Vocab at 0x7f4810082dd8>,\n",
       " 'change': <gensim.models.keyedvectors.Vocab at 0x7f4810082b70>,\n",
       " 'require': <gensim.models.keyedvectors.Vocab at 0x7f48100829e8>,\n",
       " 'radio': <gensim.models.keyedvectors.Vocab at 0x7f480b0d1f60>,\n",
       " 'stations': <gensim.models.keyedvectors.Vocab at 0x7f480b0d1d30>,\n",
       " 'chapter': <gensim.models.keyedvectors.Vocab at 0x7f480b0d1438>,\n",
       " 'station': <gensim.models.keyedvectors.Vocab at 0x7f480b0d1a20>,\n",
       " 'license': <gensim.models.keyedvectors.Vocab at 0x7f480b0d1c50>,\n",
       " 'mobile': <gensim.models.keyedvectors.Vocab at 0x7f480b0d1b70>,\n",
       " 'certificates': <gensim.models.keyedvectors.Vocab at 0x7f480b0d1320>,\n",
       " 'application': <gensim.models.keyedvectors.Vocab at 0x7f480b0d17b8>,\n",
       " 'affairs': <gensim.models.keyedvectors.Vocab at 0x7f480b0d1f28>,\n",
       " 'york': <gensim.models.keyedvectors.Vocab at 0x7f480b0d12b0>,\n",
       " 'circulars': <gensim.models.keyedvectors.Vocab at 0x7f480b0d1b38>}"
      ]
     },
     "execution_count": 92,
     "metadata": {},
     "output_type": "execute_result"
    }
   ],
   "source": [
    "new_model.wv.vocab"
   ]
  },
  {
   "cell_type": "code",
   "execution_count": null,
   "metadata": {},
   "outputs": [],
   "source": []
  }
 ],
 "metadata": {
  "kernelspec": {
   "display_name": "Python 3",
   "language": "python",
   "name": "python3"
  },
  "language_info": {
   "codemirror_mode": {
    "name": "ipython",
    "version": 3
   },
   "file_extension": ".py",
   "mimetype": "text/x-python",
   "name": "python",
   "nbconvert_exporter": "python",
   "pygments_lexer": "ipython3",
   "version": "3.6.7"
  }
 },
 "nbformat": 4,
 "nbformat_minor": 4
}
